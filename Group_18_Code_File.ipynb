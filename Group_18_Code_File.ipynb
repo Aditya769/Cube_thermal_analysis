{
 "cells": [
  {
   "cell_type": "code",
   "execution_count": 1,
   "metadata": {
    "id": "NS0zqbYT58uJ"
   },
   "outputs": [],
   "source": [
    "import pandas as pd"
   ]
  },
  {
   "cell_type": "markdown",
   "metadata": {
    "id": "JgkV9BXi58uY"
   },
   "source": [
    "### Calculation of Effective Convection Coefficient of CUBE"
   ]
  },
  {
   "cell_type": "code",
   "execution_count": 2,
   "metadata": {
    "id": "lnVGibjA58ud"
   },
   "outputs": [],
   "source": [
    "# Calculation of Effective Convection Coefficient of CUBE\n",
    "\n",
    "Lc=1  #Characterstic Length L= 1m\n",
    "#T=120\n",
    "#v=1.6565e-4\n",
    "#alpha= 2.268e-4\n",
    "#Pr=0.7340\n",
    "#k=1\n",
    "def heff(T,Lc,v,alpha,Pr,k):\n",
    "    beta=1/((T+25+2*273)/2.0)\n",
    "    Ra_V = 9.8*beta*(T-25)*Lc**3/(v*alpha)   #Rayleigh Number of Vertical Plate\n",
    "    Nu_V = (0.825+(0.387*Ra_V**(1/6))/(1+(0.492/Pr)**(9/16))**(8/27))**2    #Nusselt Number of Vertical Plate\n",
    "    Lc_H = Lc/4    #Characteristic Length (Horizontal)\n",
    "    Ra_H = 9.8*beta*(T-25)*(Lc_H)**3/(v*alpha)   # Rayleigh Number of Horizontal Plate\n",
    "    Nu_H_t = 0.59*Ra_H**(1/4)              #Nusselt of horizontal facing upwards\n",
    "    Nu_H_b = 0.27*Ra_H**(1/4)           #Nusselt of horizontal facing downwards\n",
    "    h_v = Nu_V*k/Lc                     #Convection Coeff  ( Vertical)\n",
    "    h_h_t = Nu_H_t*k/Lc_H               #Convection Coeff (Horizontal_Top)\n",
    "    h_h_b = Nu_H_b*k/Lc_H               #Convection Coeff (Horizontal_Bottom)\n",
    "    heff = 4*h_v+h_h_t+h_h_b            #Effective Coeff (Cube)\n",
    "    return heff"
   ]
  },
  {
   "cell_type": "code",
   "execution_count": 3,
   "metadata": {
    "id": "KVID_ILF58uf"
   },
   "outputs": [],
   "source": [
    "# Lc_H = Lc/4\n",
    "# Ra_H = 9.8*beta*(T-25)*(Lc_H)**3/(v*alpha)\n",
    "# Nu_H_t = 0.59*Ra_H**(1/4)\n",
    "# Nu_H_b = 0.27*Ra_H**(1/4)\n",
    "#Lc_S= D"
   ]
  },
  {
   "cell_type": "code",
   "execution_count": 4,
   "metadata": {
    "id": "DsqTkOgx58uh"
   },
   "outputs": [],
   "source": [
    "# h_v = Nu_V*k/Lc\n",
    "# h_h_t = Nu_H_t*k/Lc_H\n",
    "# h_h_b = Nu_H_b*k/Lc_H"
   ]
  },
  {
   "cell_type": "markdown",
   "metadata": {
    "id": "pM1AwJQa58uj"
   },
   "source": [
    "### H_Effective"
   ]
  },
  {
   "cell_type": "code",
   "execution_count": 5,
   "metadata": {
    "id": "5BgDt3ts58uk"
   },
   "outputs": [],
   "source": [
    "# heff = 4*h_v+h_h_t+h_h_b (4 vertical + 1horizontal +1 horizontal)"
   ]
  },
  {
   "cell_type": "markdown",
   "metadata": {
    "id": "8MHUIZ4l58um"
   },
   "source": [
    "### Calculation of Effective Convection Coefficient of CUBE (Estimation as Sphere)"
   ]
  },
  {
   "cell_type": "code",
   "execution_count": 7,
   "metadata": {
    "id": "GEZNmTpp58uo"
   },
   "outputs": [],
   "source": [
    "# Calculation of Effective Convection Coefficient of CUBE (Estimation as Sphere)\n",
    "\n",
    "def heff_sphere(T,Lc_S,v_S,alpha_S,Pr_S,k_S):\n",
    "    beta=1/((T+25+2*273)/2.0)   #Coefficient of Volume Expansion\n",
    "    Ra_S=9.8*beta*(T-25)*Lc_S**3/(v_S*alpha_S) #Rayleigh Number\n",
    "    Nu_S = 2+(0.589*Ra_S**(1/4))/(1+(0.492/Pr_S)**(9/16))**(4/9) #Nusselt Number\n",
    "    \n",
    "    h_S = Nu_S*k_S/Lc_S    #Effective Coefficient considering Sphere shape\n",
    "    return h_S\n"
   ]
  },
  {
   "cell_type": "code",
   "execution_count": 8,
   "metadata": {
    "id": "dovYvv-l58uq"
   },
   "outputs": [],
   "source": [
    "\n",
    "data = pd.read_csv('data_G_18.csv')\n"
   ]
  },
  {
   "cell_type": "code",
   "execution_count": 9,
   "metadata": {
    "colab": {
     "base_uri": "https://localhost:8080/",
     "height": 1000
    },
    "id": "c5FoxUn3D6t2",
    "outputId": "42b045f2-6d63-4c28-bb36-134e418be738"
   },
   "outputs": [
    {
     "data": {
      "text/html": [
       "<div>\n",
       "<style scoped>\n",
       "    .dataframe tbody tr th:only-of-type {\n",
       "        vertical-align: middle;\n",
       "    }\n",
       "\n",
       "    .dataframe tbody tr th {\n",
       "        vertical-align: top;\n",
       "    }\n",
       "\n",
       "    .dataframe thead th {\n",
       "        text-align: right;\n",
       "    }\n",
       "</style>\n",
       "<table border=\"1\" class=\"dataframe\">\n",
       "  <thead>\n",
       "    <tr style=\"text-align: right;\">\n",
       "      <th></th>\n",
       "      <th>Unnamed: 0</th>\n",
       "      <th>Unnamed: 1</th>\n",
       "      <th>Unnamed: 2</th>\n",
       "      <th>Unnamed: 3</th>\n",
       "      <th>Unnamed: 4</th>\n",
       "      <th>Unnamed: 5</th>\n",
       "    </tr>\n",
       "  </thead>\n",
       "  <tbody>\n",
       "    <tr>\n",
       "      <th>0</th>\n",
       "      <td>v</td>\n",
       "      <td>alpha</td>\n",
       "      <td>K</td>\n",
       "      <td>Pr</td>\n",
       "      <td>Temperature</td>\n",
       "      <td>Ts</td>\n",
       "    </tr>\n",
       "    <tr>\n",
       "      <th>1</th>\n",
       "      <td>0.000143</td>\n",
       "      <td>0.0001942</td>\n",
       "      <td>0.01361</td>\n",
       "      <td>0.7365</td>\n",
       "      <td>30</td>\n",
       "      <td>45</td>\n",
       "    </tr>\n",
       "    <tr>\n",
       "      <th>2</th>\n",
       "      <td>0.0001469</td>\n",
       "      <td>0.00019975</td>\n",
       "      <td>0.01379</td>\n",
       "      <td>0.735375</td>\n",
       "      <td>37.5</td>\n",
       "      <td>50</td>\n",
       "    </tr>\n",
       "    <tr>\n",
       "      <th>3</th>\n",
       "      <td>0.00014755</td>\n",
       "      <td>0.000200675</td>\n",
       "      <td>0.01382</td>\n",
       "      <td>0.7351875</td>\n",
       "      <td>38.75</td>\n",
       "      <td>52.5</td>\n",
       "    </tr>\n",
       "    <tr>\n",
       "      <th>4</th>\n",
       "      <td>0.0001482</td>\n",
       "      <td>0.0002016</td>\n",
       "      <td>0.01385</td>\n",
       "      <td>0.735</td>\n",
       "      <td>40</td>\n",
       "      <td>55</td>\n",
       "    </tr>\n",
       "    <tr>\n",
       "      <th>5</th>\n",
       "      <td>0.0001488625</td>\n",
       "      <td>0.00020255</td>\n",
       "      <td>0.01388</td>\n",
       "      <td>0.734825</td>\n",
       "      <td>41.25</td>\n",
       "      <td>57.5</td>\n",
       "    </tr>\n",
       "    <tr>\n",
       "      <th>6</th>\n",
       "      <td>0.000149525</td>\n",
       "      <td>0.0002035</td>\n",
       "      <td>0.01391</td>\n",
       "      <td>0.73465</td>\n",
       "      <td>42.5</td>\n",
       "      <td>60</td>\n",
       "    </tr>\n",
       "    <tr>\n",
       "      <th>7</th>\n",
       "      <td>0.00015085</td>\n",
       "      <td>0.0002054</td>\n",
       "      <td>0.01397</td>\n",
       "      <td>0.7343</td>\n",
       "      <td>45</td>\n",
       "      <td>65</td>\n",
       "    </tr>\n",
       "    <tr>\n",
       "      <th>8</th>\n",
       "      <td>0.0001515125</td>\n",
       "      <td>0.00020635</td>\n",
       "      <td>0.014</td>\n",
       "      <td>0.734125</td>\n",
       "      <td>46.25</td>\n",
       "      <td>67.5</td>\n",
       "    </tr>\n",
       "    <tr>\n",
       "      <th>9</th>\n",
       "      <td>0.000152175</td>\n",
       "      <td>0.0002073</td>\n",
       "      <td>0.01403</td>\n",
       "      <td>0.73395</td>\n",
       "      <td>47.5</td>\n",
       "      <td>70</td>\n",
       "    </tr>\n",
       "    <tr>\n",
       "      <th>10</th>\n",
       "      <td>0.0001528375</td>\n",
       "      <td>0.00020825</td>\n",
       "      <td>0.01406</td>\n",
       "      <td>0.733775</td>\n",
       "      <td>48.75</td>\n",
       "      <td>72.5</td>\n",
       "    </tr>\n",
       "    <tr>\n",
       "      <th>11</th>\n",
       "      <td>0.0001535</td>\n",
       "      <td>0.0002092</td>\n",
       "      <td>0.01409</td>\n",
       "      <td>0.7336</td>\n",
       "      <td>50</td>\n",
       "      <td>75</td>\n",
       "    </tr>\n",
       "    <tr>\n",
       "      <th>12</th>\n",
       "      <td>0.0001541625</td>\n",
       "      <td>0.0002101625</td>\n",
       "      <td>0.01412</td>\n",
       "      <td>0.7334125</td>\n",
       "      <td>51.25</td>\n",
       "      <td>77.5</td>\n",
       "    </tr>\n",
       "    <tr>\n",
       "      <th>13</th>\n",
       "      <td>0.000154825</td>\n",
       "      <td>0.000211125</td>\n",
       "      <td>0.01415</td>\n",
       "      <td>0.733225</td>\n",
       "      <td>52.5</td>\n",
       "      <td>80</td>\n",
       "    </tr>\n",
       "    <tr>\n",
       "      <th>14</th>\n",
       "      <td>0.0001554875</td>\n",
       "      <td>0.0002120875</td>\n",
       "      <td>0.01418</td>\n",
       "      <td>0.7330375</td>\n",
       "      <td>53.75</td>\n",
       "      <td>82.5</td>\n",
       "    </tr>\n",
       "    <tr>\n",
       "      <th>15</th>\n",
       "      <td>0.00015615</td>\n",
       "      <td>0.00021305</td>\n",
       "      <td>0.01421</td>\n",
       "      <td>0.73285</td>\n",
       "      <td>55</td>\n",
       "      <td>85</td>\n",
       "    </tr>\n",
       "    <tr>\n",
       "      <th>16</th>\n",
       "      <td>0.0001568125</td>\n",
       "      <td>0.0002140125</td>\n",
       "      <td>0.01424</td>\n",
       "      <td>0.7326625</td>\n",
       "      <td>56.25</td>\n",
       "      <td>87.5</td>\n",
       "    </tr>\n",
       "    <tr>\n",
       "      <th>17</th>\n",
       "      <td>0.000157475</td>\n",
       "      <td>0.000214975</td>\n",
       "      <td>0.01427</td>\n",
       "      <td>0.732475</td>\n",
       "      <td>57.5</td>\n",
       "      <td>90</td>\n",
       "    </tr>\n",
       "    <tr>\n",
       "      <th>18</th>\n",
       "      <td>0.0001581375</td>\n",
       "      <td>0.0002159375</td>\n",
       "      <td>0.0143</td>\n",
       "      <td>0.7322875</td>\n",
       "      <td>58.75</td>\n",
       "      <td>92.5</td>\n",
       "    </tr>\n",
       "    <tr>\n",
       "      <th>19</th>\n",
       "      <td>0.0001588</td>\n",
       "      <td>0.0002169</td>\n",
       "      <td>0.01433</td>\n",
       "      <td>0.7321</td>\n",
       "      <td>60</td>\n",
       "      <td>95</td>\n",
       "    </tr>\n",
       "    <tr>\n",
       "      <th>20</th>\n",
       "      <td>0.0001594875</td>\n",
       "      <td>0.0002178875</td>\n",
       "      <td>0.01436</td>\n",
       "      <td>0.7319125</td>\n",
       "      <td>61.25</td>\n",
       "      <td>97.5</td>\n",
       "    </tr>\n",
       "    <tr>\n",
       "      <th>21</th>\n",
       "      <td>0.000160175</td>\n",
       "      <td>0.000218875</td>\n",
       "      <td>0.01439</td>\n",
       "      <td>0.731725</td>\n",
       "      <td>62.5</td>\n",
       "      <td>100</td>\n",
       "    </tr>\n",
       "    <tr>\n",
       "      <th>22</th>\n",
       "      <td>0.0001608625</td>\n",
       "      <td>0.0002198625</td>\n",
       "      <td>0.01442</td>\n",
       "      <td>0.7315375</td>\n",
       "      <td>63.75</td>\n",
       "      <td>102.5</td>\n",
       "    </tr>\n",
       "    <tr>\n",
       "      <th>23</th>\n",
       "      <td>0.00016155</td>\n",
       "      <td>0.00022085</td>\n",
       "      <td>0.01445</td>\n",
       "      <td>0.73135</td>\n",
       "      <td>65</td>\n",
       "      <td>105</td>\n",
       "    </tr>\n",
       "    <tr>\n",
       "      <th>24</th>\n",
       "      <td>0.0001622375</td>\n",
       "      <td>0.0002218375</td>\n",
       "      <td>0.01448</td>\n",
       "      <td>0.7311625</td>\n",
       "      <td>66.25</td>\n",
       "      <td>107.5</td>\n",
       "    </tr>\n",
       "    <tr>\n",
       "      <th>25</th>\n",
       "      <td>0.000162925</td>\n",
       "      <td>0.000222825</td>\n",
       "      <td>0.01451</td>\n",
       "      <td>0.730975</td>\n",
       "      <td>67.5</td>\n",
       "      <td>110</td>\n",
       "    </tr>\n",
       "    <tr>\n",
       "      <th>26</th>\n",
       "      <td>0.0001636125</td>\n",
       "      <td>0.0002238125</td>\n",
       "      <td>0.01454</td>\n",
       "      <td>0.7307875</td>\n",
       "      <td>68.75</td>\n",
       "      <td>112.5</td>\n",
       "    </tr>\n",
       "    <tr>\n",
       "      <th>27</th>\n",
       "      <td>0.0001643</td>\n",
       "      <td>0.0002248</td>\n",
       "      <td>0.01457</td>\n",
       "      <td>0.7306</td>\n",
       "      <td>70</td>\n",
       "      <td>115</td>\n",
       "    </tr>\n",
       "    <tr>\n",
       "      <th>28</th>\n",
       "      <td>0.000164975</td>\n",
       "      <td>0.0002258</td>\n",
       "      <td>0.0146</td>\n",
       "      <td>0.7304</td>\n",
       "      <td>71.25</td>\n",
       "      <td>117.5</td>\n",
       "    </tr>\n",
       "    <tr>\n",
       "      <th>29</th>\n",
       "      <td>0.00016565</td>\n",
       "      <td>0.0002268</td>\n",
       "      <td>0.01463</td>\n",
       "      <td>0.7302</td>\n",
       "      <td>72.5</td>\n",
       "      <td>120</td>\n",
       "    </tr>\n",
       "    <tr>\n",
       "      <th>30</th>\n",
       "      <td>0.0001697</td>\n",
       "      <td>0.0002328</td>\n",
       "      <td>0.01481</td>\n",
       "      <td>0.729</td>\n",
       "      <td>80</td>\n",
       "      <td>135</td>\n",
       "    </tr>\n",
       "  </tbody>\n",
       "</table>\n",
       "</div>"
      ],
      "text/plain": [
       "      Unnamed: 0    Unnamed: 1 Unnamed: 2 Unnamed: 3   Unnamed: 4 Unnamed: 5\n",
       "0              v         alpha          K         Pr  Temperature         Ts\n",
       "1       0.000143     0.0001942    0.01361     0.7365           30         45\n",
       "2      0.0001469    0.00019975    0.01379   0.735375         37.5         50\n",
       "3     0.00014755   0.000200675    0.01382  0.7351875        38.75       52.5\n",
       "4      0.0001482     0.0002016    0.01385      0.735           40         55\n",
       "5   0.0001488625    0.00020255    0.01388   0.734825        41.25       57.5\n",
       "6    0.000149525     0.0002035    0.01391    0.73465         42.5         60\n",
       "7     0.00015085     0.0002054    0.01397     0.7343           45         65\n",
       "8   0.0001515125    0.00020635      0.014   0.734125        46.25       67.5\n",
       "9    0.000152175     0.0002073    0.01403    0.73395         47.5         70\n",
       "10  0.0001528375    0.00020825    0.01406   0.733775        48.75       72.5\n",
       "11     0.0001535     0.0002092    0.01409     0.7336           50         75\n",
       "12  0.0001541625  0.0002101625    0.01412  0.7334125        51.25       77.5\n",
       "13   0.000154825   0.000211125    0.01415   0.733225         52.5         80\n",
       "14  0.0001554875  0.0002120875    0.01418  0.7330375        53.75       82.5\n",
       "15    0.00015615    0.00021305    0.01421    0.73285           55         85\n",
       "16  0.0001568125  0.0002140125    0.01424  0.7326625        56.25       87.5\n",
       "17   0.000157475   0.000214975    0.01427   0.732475         57.5         90\n",
       "18  0.0001581375  0.0002159375     0.0143  0.7322875        58.75       92.5\n",
       "19     0.0001588     0.0002169    0.01433     0.7321           60         95\n",
       "20  0.0001594875  0.0002178875    0.01436  0.7319125        61.25       97.5\n",
       "21   0.000160175   0.000218875    0.01439   0.731725         62.5        100\n",
       "22  0.0001608625  0.0002198625    0.01442  0.7315375        63.75      102.5\n",
       "23    0.00016155    0.00022085    0.01445    0.73135           65        105\n",
       "24  0.0001622375  0.0002218375    0.01448  0.7311625        66.25      107.5\n",
       "25   0.000162925   0.000222825    0.01451   0.730975         67.5        110\n",
       "26  0.0001636125  0.0002238125    0.01454  0.7307875        68.75      112.5\n",
       "27     0.0001643     0.0002248    0.01457     0.7306           70        115\n",
       "28   0.000164975     0.0002258     0.0146     0.7304        71.25      117.5\n",
       "29    0.00016565     0.0002268    0.01463     0.7302         72.5        120\n",
       "30     0.0001697     0.0002328    0.01481      0.729           80        135"
      ]
     },
     "execution_count": 9,
     "metadata": {},
     "output_type": "execute_result"
    }
   ],
   "source": [
    "data.head(50)"
   ]
  },
  {
   "cell_type": "code",
   "execution_count": 10,
   "metadata": {
    "colab": {
     "base_uri": "https://localhost:8080/"
    },
    "id": "tS8nBSXyF2rg",
    "outputId": "1ea3a8fa-7f30-451d-a785-899308c5d401"
   },
   "outputs": [
    {
     "name": "stdout",
     "output_type": "stream",
     "text": [
      "0.0001469\n",
      "0.00014755\n",
      "0.0001482\n",
      "0.0001488625\n",
      "0.000149525\n",
      "0.00015085\n",
      "0.0001515125\n",
      "0.000152175\n",
      "0.0001528375\n",
      "0.0001535\n",
      "0.0001541625\n",
      "0.000154825\n",
      "0.0001554875\n",
      "0.00015615\n",
      "0.0001568125\n",
      "0.000157475\n",
      "0.0001581375\n",
      "0.0001588\n",
      "0.0001594875\n",
      "0.000160175\n",
      "0.0001608625\n",
      "0.00016155\n",
      "0.0001622375\n",
      "0.000162925\n",
      "0.0001636125\n",
      "0.0001643\n",
      "0.000164975\n",
      "0.00016565\n"
     ]
    }
   ],
   "source": [
    "for i in range(2,30):\n",
    "    v = float(data['Unnamed: 0'][i]) \n",
    "    print(v)"
   ]
  },
  {
   "cell_type": "markdown",
   "metadata": {
    "id": "0J_70MfoHwuv"
   },
   "source": [
    "### Calculations for Cube"
   ]
  },
  {
   "cell_type": "code",
   "execution_count": 11,
   "metadata": {
    "id": "gd3ZsQjh58uv"
   },
   "outputs": [],
   "source": [
    "#Cubic_time_Calculation\n",
    "arr_cube = []\n",
    "time_cube = 0\n",
    "time_arr= []\n",
    "m=8640               #Mass of Sphere Considering density as 8.64gm/cubic_cm\n",
    "cp=385               #cp=385 J/kg\n",
    "for i in range(2,30):\n",
    "    v = float(data['Unnamed: 0'][i])  #Kinematic Viscosity\n",
    "    alpha = float(data['Unnamed: 1'][i])  #Thermal Diffusivity\n",
    "    k  = float(data['Unnamed: 2'][i]) #Thermal Conductivity\n",
    "    Pr  = float(data['Unnamed: 3'][i])   #Prandtl Number\n",
    "    T  = float(data['Unnamed: 5'][i])    \n",
    "    h_eff =heff(T,Lc,v,alpha,Pr,k)     #heff called\n",
    "    \n",
    "#Integration is estimated by adding discrete intervals \n",
    "    time_cube = time_cube+ 2.5*m*cp/(h_eff*(T-25))\n",
    "    time_arr.append(time_cube)\n",
    "    arr_cube.append(h_eff)\n",
    "    \n",
    "    "
   ]
  },
  {
   "cell_type": "markdown",
   "metadata": {
    "id": "ikw7mQXlH6DD"
   },
   "source": [
    "### Calculations for Sphere"
   ]
  },
  {
   "cell_type": "code",
   "execution_count": 12,
   "metadata": {
    "id": "TqvYB3qJ58ux"
   },
   "outputs": [],
   "source": [
    "#Spherical_Shape_time_Calculation\n",
    "m=8640               #Mass of Sphere Considering density as 8.64gm/cubic_cm\n",
    "cp=385               #cp=385 J/kg\n",
    "arr_sphere=[]\n",
    "time_s=0\n",
    "time_s_arr=[]\n",
    "for i in range(2,30):\n",
    "    v = float(data['Unnamed: 0'][i])  #Kinematic Viscosity\n",
    "    alpha = float(data['Unnamed: 1'][i]) #Thermal Diffusivity\n",
    "    k  = float(data['Unnamed: 2'][i])  #Thermal Conductivity\n",
    "    Pr  = float(data['Unnamed: 3'][i]) #Prandtl Number\n",
    "    T  = float(data['Unnamed: 5'][i])  \n",
    "    r=0.62                      # Calculation of Charcteristic length of Sphere\n",
    "    Lc_S=2*r\n",
    "    h_eff_S= heff_sphere(T,Lc_S,v,alpha,Pr,k)\n",
    "    #Integration is estimated by adding discrete intervals \n",
    "    time_s=time_s+2.5*(m*cp/(h_eff_S*(T-25)*(4*3.141*r*r)))\n",
    "    arr_sphere.append(h_eff_S)        \n",
    "    time_s_arr.append(time_s)\n",
    "    \n",
    "    "
   ]
  },
  {
   "cell_type": "markdown",
   "metadata": {
    "id": "UgLgAHbK58uz"
   },
   "source": [
    "### Cubic shape estimated time in seconds"
   ]
  },
  {
   "cell_type": "code",
   "execution_count": 13,
   "metadata": {
    "colab": {
     "base_uri": "https://localhost:8080/"
    },
    "id": "fDZSIrTz58u0",
    "outputId": "3675114f-f890-4573-938b-3770b844761f"
   },
   "outputs": [
    {
     "data": {
      "text/plain": [
       "1074224.9721477171"
      ]
     },
     "execution_count": 13,
     "metadata": {},
     "output_type": "execute_result"
    }
   ],
   "source": [
    "time_cube  # Cubic shape estimated time in seconds\n"
   ]
  },
  {
   "cell_type": "markdown",
   "metadata": {
    "id": "GtTAnWAa58u1"
   },
   "source": [
    "### Sperical shape estimated time in seconds"
   ]
  },
  {
   "cell_type": "code",
   "execution_count": 14,
   "metadata": {
    "colab": {
     "base_uri": "https://localhost:8080/"
    },
    "id": "SHFc7SiD58u1",
    "outputId": "3a1eaa93-7c3b-4c80-ea88-6393bf2d80ba"
   },
   "outputs": [
    {
     "data": {
      "text/plain": [
       "1769687.7111089677"
      ]
     },
     "execution_count": 14,
     "metadata": {},
     "output_type": "execute_result"
    }
   ],
   "source": [
    "time_s  #Sperical shape estimated time in seconds"
   ]
  },
  {
   "cell_type": "code",
   "execution_count": 15,
   "metadata": {
    "id": "yq4_59NT58u2"
   },
   "outputs": [],
   "source": [
    "import matplotlib.pyplot as plt\n"
   ]
  },
  {
   "cell_type": "code",
   "execution_count": 16,
   "metadata": {
    "colab": {
     "base_uri": "https://localhost:8080/"
    },
    "id": "PfoQQkhJ58u3",
    "outputId": "c27f2b49-51e0-4dac-b2cd-cf8cb198b30f"
   },
   "outputs": [
    {
     "data": {
      "text/plain": [
       "[50.0,\n",
       " 52.5,\n",
       " 55.0,\n",
       " 57.5,\n",
       " 60.0,\n",
       " 65.0,\n",
       " 67.5,\n",
       " 70.0,\n",
       " 72.5,\n",
       " 75.0,\n",
       " 77.5,\n",
       " 80.0,\n",
       " 82.5,\n",
       " 85.0,\n",
       " 87.5,\n",
       " 90.0,\n",
       " 92.5,\n",
       " 95.0,\n",
       " 97.5,\n",
       " 100.0,\n",
       " 102.5,\n",
       " 105.0,\n",
       " 107.5,\n",
       " 110.0,\n",
       " 112.5,\n",
       " 115.0,\n",
       " 117.5,\n",
       " 120.0]"
      ]
     },
     "execution_count": 16,
     "metadata": {},
     "output_type": "execute_result"
    }
   ],
   "source": [
    "Temp=[]\n",
    "for i in range(2,30):\n",
    "    Temp.append(float(data['Unnamed: 5'][i]))\n",
    "Temp"
   ]
  },
  {
   "cell_type": "code",
   "execution_count": 17,
   "metadata": {
    "colab": {
     "base_uri": "https://localhost:8080/",
     "height": 282
    },
    "id": "TmFtIMZp58u4",
    "outputId": "1631bb10-08bd-4b60-c882-74638318992a"
   },
   "outputs": [
    {
     "data": {
      "text/plain": [
       "[<matplotlib.lines.Line2D at 0x1e104da9760>]"
      ]
     },
     "execution_count": 17,
     "metadata": {},
     "output_type": "execute_result"
    },
    {
     "data": {
      "image/png": "[encoded data removed]",
      "text/plain": [
       "<Figure size 432x288 with 1 Axes>"
      ]
     },
     "metadata": {
      "needs_background": "light"
     },
     "output_type": "display_data"
    }
   ],
   "source": [
    "plt.plot(Temp,arr_cube)          # Plot of convection Coefficient (Cube) wrt Temprature"
   ]
  },
  {
   "cell_type": "code",
   "execution_count": 18,
   "metadata": {
    "colab": {
     "base_uri": "https://localhost:8080/",
     "height": 282
    },
    "id": "bv9gecHi58u5",
    "outputId": "664544fe-1804-4e9b-c5f8-6d43d325f94d"
   },
   "outputs": [
    {
     "data": {
      "text/plain": [
       "[<matplotlib.lines.Line2D at 0x1e104e50970>]"
      ]
     },
     "execution_count": 18,
     "metadata": {},
     "output_type": "execute_result"
    },
    {
     "data": {
      "image/png": "[encoded data removed]",
      "text/plain": [
       "<Figure size 432x288 with 1 Axes>"
      ]
     },
     "metadata": {
      "needs_background": "light"
     },
     "output_type": "display_data"
    }
   ],
   "source": [
    "plt.plot(Temp,arr_sphere)   # Plot of convection Coefficient (Sphere) wrt Temprature"
   ]
  },
  {
   "cell_type": "markdown",
   "metadata": {
    "id": "vEbdTR8E58u6"
   },
   "source": [
    "###  Average Convection Coefficient (Cube)"
   ]
  },
  {
   "cell_type": "code",
   "execution_count": 19,
   "metadata": {
    "colab": {
     "base_uri": "https://localhost:8080/"
    },
    "id": "fY3E0hli58u6",
    "outputId": "a5592b69-2a9f-4201-efbb-e8775633e4e3"
   },
   "outputs": [
    {
     "data": {
      "text/plain": [
       "4.334840187533916"
      ]
     },
     "execution_count": 19,
     "metadata": {},
     "output_type": "execute_result"
    }
   ],
   "source": [
    "h_avg_cube= sum(arr_cube)/len(arr_cube)     # Average Convection Coefficient (Cube)\n",
    "h_avg_cube"
   ]
  },
  {
   "cell_type": "code",
   "execution_count": 20,
   "metadata": {
    "id": "79UkFLYE6F1K"
   },
   "outputs": [],
   "source": [
    "K_copper =  385.0  # average thermal conductivity of Copper over given temperature range(W/mK) "
   ]
  },
  {
   "cell_type": "markdown",
   "metadata": {
    "id": "oDE261ir6KfH"
   },
   "source": [
    "### Calculate Biot Number for Cube :"
   ]
  },
  {
   "cell_type": "code",
   "execution_count": 21,
   "metadata": {
    "colab": {
     "base_uri": "https://localhost:8080/"
    },
    "id": "O8jI_H-Q6TYy",
    "outputId": "e306cd1f-1266-42b5-d15b-2296a3565d80"
   },
   "outputs": [
    {
     "name": "stdout",
     "output_type": "stream",
     "text": [
      "0.001876554193737626\n"
     ]
    }
   ],
   "source": [
    "# Characteristic length scale (V/As)\n",
    "characteristic_L = 1/6.0    # Volume/ surface_Area (a^3 / 6a^2)\n",
    "Biot_Cube = h_avg_cube*characteristic_L/K_copper \n",
    "print(Biot_Cube)"
   ]
  },
  {
   "cell_type": "markdown",
   "metadata": {
    "id": "DIj1UFII58u7"
   },
   "source": [
    "### Average Convection Coefficient (Sphere)"
   ]
  },
  {
   "cell_type": "code",
   "execution_count": 22,
   "metadata": {
    "colab": {
     "base_uri": "https://localhost:8080/"
    },
    "id": "ih11O0Jq58u8",
    "outputId": "67278210-f78b-4f71-f43a-a158bd258e1e"
   },
   "outputs": [
    {
     "data": {
      "text/plain": [
       "0.5410951854985135"
      ]
     },
     "execution_count": 22,
     "metadata": {},
     "output_type": "execute_result"
    }
   ],
   "source": [
    "h_avg_sphere = sum(arr_sphere)/len(arr_sphere)     # Average Convection Coefficient (Sphere)\n",
    "h_avg_sphere"
   ]
  },
  {
   "cell_type": "markdown",
   "metadata": {
    "id": "0nHF_sy-8q5t"
   },
   "source": [
    "### Calculate Biot Number for Sphere"
   ]
  },
  {
   "cell_type": "code",
   "execution_count": 23,
   "metadata": {
    "colab": {
     "base_uri": "https://localhost:8080/"
    },
    "id": "ksU4h5PK83sR",
    "outputId": "dd5c19e0-18e4-4400-f4d8-52e355210aae"
   },
   "outputs": [
    {
     "name": "stdout",
     "output_type": "stream",
     "text": [
      "0.00029045802165288175\n"
     ]
    }
   ],
   "source": [
    "# Characteristic length scale (V/As)\n",
    "characteristic_L_sp = 0.62/3.0    # Volume/ surface_Area ((4/3)*pi*r^3 / 4*pi*r^2) ~(r/3.0)\n",
    "Biot_sphere = h_avg_sphere*characteristic_L_sp/K_copper \n",
    "print(Biot_sphere)"
   ]
  },
  {
   "cell_type": "markdown",
   "metadata": {
    "id": "3QcxxljP9qSa"
   },
   "source": [
    "### **From above results, We found that Biot Number is less than 0.1 in both cases, which proves that our assumption of considering negligible temperature gradient inside body are correct....**"
   ]
  },
  {
   "cell_type": "code",
   "execution_count": 24,
   "metadata": {
    "colab": {
     "base_uri": "https://localhost:8080/"
    },
    "id": "a3f_mRJc58u8",
    "outputId": "48354bba-9b48-49e3-aaae-0c36327cb2a7"
   },
   "outputs": [
    {
     "name": "stdout",
     "output_type": "stream",
     "text": [
      "3.5060972499188647\n",
      "3.59459245459444\n",
      "3.6769966531849447\n",
      "3.7539381686691953\n",
      "3.8262905090090724\n",
      "3.959308855954819\n",
      "4.020798156873255\n",
      "4.079382316656774\n",
      "4.1353314670451\n",
      "4.188878200309748\n",
      "4.240147706880323\n",
      "4.289391915285443\n",
      "4.336766216509414\n",
      "4.382408139927624\n",
      "4.426440060554228\n",
      "4.468971404426818\n",
      "4.510100460796675\n",
      "4.549915883131666\n",
      "4.588148851692777\n",
      "4.62521854401102\n",
      "4.66119175364631\n",
      "4.696129564566965\n",
      "4.730088000319033\n",
      "4.763118581955163\n",
      "4.7952688098503655\n",
      "4.826582581664624\n",
      "4.857121107044072\n",
      "4.886901636470929\n"
     ]
    }
   ],
   "source": [
    "for i in range(len(arr_cube)):   # Values of Convection coefficient for cube\n",
    "    print(arr_cube[i])\n",
    "    "
   ]
  },
  {
   "cell_type": "code",
   "execution_count": 25,
   "metadata": {
    "colab": {
     "base_uri": "https://localhost:8080/"
    },
    "id": "O9JujE-P58u9",
    "outputId": "016422e1-9709-4666-a3d5-82cc0a3b7c16",
    "scrolled": true
   },
   "outputs": [
    {
     "name": "stdout",
     "output_type": "stream",
     "text": [
      "0.4493320263825968\n",
      "0.4591902453010975\n",
      "0.46835171068295167\n",
      "0.4768922588116842\n",
      "0.4849123254967974\n",
      "0.4996334104610591\n",
      "0.5064299248109173\n",
      "0.512901423161939\n",
      "0.5190789979081977\n",
      "0.5249893458373346\n",
      "0.5306470626179887\n",
      "0.5360806980645381\n",
      "0.541307947595848\n",
      "0.5463444348261399\n",
      "0.5512040293504102\n",
      "0.5558991051173054\n",
      "0.5604407523381818\n",
      "0.5648389526874069\n",
      "0.5690656694720191\n",
      "0.5731659069658073\n",
      "0.577147134017505\n",
      "0.5810161679215835\n",
      "0.5847792495101864\n",
      "0.5884421075892444\n",
      "0.5920100144983756\n",
      "0.5954878342348666\n",
      "0.5988819048128723\n",
      "0.6021945534835247\n"
     ]
    }
   ],
   "source": [
    "for i in range(len(arr_sphere)):       # Values of Convection coefficient for sphere\n",
    "    print(arr_sphere[i])\n",
    "  \n",
    "    "
   ]
  },
  {
   "cell_type": "markdown",
   "metadata": {},
   "source": [
    "### Using https://mycurvefit.com/ for curve fitting and  h(effective) eqn generation. \n",
    "#### Equation : heff= (1.437065 + 0.05147343*x - 0.0001968346*x^2)"
   ]
  },
  {
   "cell_type": "code",
   "execution_count": 26,
   "metadata": {
    "id": "auSjfcjzHY9Y"
   },
   "outputs": [],
   "source": [
    "cp= 385\n",
    "m = 8960\n",
    "def f(x):\n",
    "    return m*cp/((1.437065 + 0.05147343*x - 0.0001968346*x**2)*(x-25))"
   ]
  },
  {
   "cell_type": "markdown",
   "metadata": {},
   "source": [
    "### Using Scipy Library to find the exact integral with minimum error"
   ]
  },
  {
   "cell_type": "code",
   "execution_count": 27,
   "metadata": {},
   "outputs": [
    {
     "name": "stdout",
     "output_type": "stream",
     "text": [
      "The numerical result is -1115605.776168 (+-3.00402e-05)\n"
     ]
    }
   ],
   "source": [
    "from math import cos, exp, pi\n",
    "from scipy.integrate import quad\n",
    "\n",
    "    \n",
    "res, err = quad(f, 120, 50)\n",
    "\n",
    "print(\"The numerical result is {:f} (+-{:g})\"\n",
    "    .format(res, err))  "
   ]
  },
  {
   "cell_type": "markdown",
   "metadata": {},
   "source": [
    "#### The Exact Result comes out to be 1115605 secs ~ 308 hrs \n",
    "#### Which is very close to our estimated value of 298 Hrs proving our estimation  nearly correct."
   ]
  },
  {
   "cell_type": "code",
   "execution_count": null,
   "metadata": {},
   "outputs": [],
   "source": []
  }
 ],
 "metadata": {
  "colab": {
   "provenance": []
  },
  "kernelspec": {
   "display_name": "Python 3",
   "language": "python",
   "name": "python3"
  },
  "language_info": {
   "codemirror_mode": {
    "name": "ipython",
    "version": 3
   },
   "file_extension": ".py",
   "mimetype": "text/x-python",
   "name": "python",
   "nbconvert_exporter": "python",
   "pygments_lexer": "ipython3",
   "version": "3.8.3"
  }
 },
 "nbformat": 4,
 "nbformat_minor": 5
}
